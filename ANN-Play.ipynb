{
 "cells": [
  {
   "cell_type": "markdown",
   "metadata": {},
   "source": [
    "# Artificial Neural Network Play\n",
    "\n",
    "An exploration of artificial neural networks. I already have an understanding on artificial neural networks from my final year at university, but I think that understanding is quite theoretical and shallow. I would like to play with neural networks so that I become familiar with their intricacies and gotchas. The purpose then of this document is to start from the very bottom and work my way up, developing the components of and then a whole artificial neural network from scratch before moving onto using established libraries (PyBrain, scikit-learn, etc.) and employing optimisations, such as using Theano.\n",
    "\n",
    "There are a couple of tutorials, articles and such which I might be following closely, along with other more rigorous sources. They are:\n",
    " - https://datajobs.com/data-science-repo/Neural-Net-%5BCarlos-Gershenson%5D.pdf\n",
    " - http://www.wildml.com/2015/09/implementing-a-neural-network-from-scratch/\n",
    " - http://andrew.gibiansky.com/blog/machine-learning/coding-intro-to-nns/\n",
    " - http://iamtrask.github.io/2015/07/12/basic-python-network/\n",
    " \n",
    "I will endeavour to cite other sources I use as I go.\n",
    "\n",
    "## Basic Understanding\n",
    "\n",
    "The anatomy of a neural network seems clear: it consists of neurons ands connections, corresponding to nodes and directed, weighted edges in the terminology of graphs. I believe that artifificial neural networks will always be able to be represented as directed, weighted, non cyclic-graphs. The network will consist of one input layer (one node for each input), one output layer (one node for each output) and any number of \"hidden\" layers, layers which do not recieve direct inputs or produce direct outputs. Each neuron will have inputs and one output. An \"activation function\" will produce a result, analogous to a real neuron firing, based upon the inputs multiplied by the weights. The weights characterise the network, and the power of neural networks comes in learning the weights, so that the final outputs match specific targets. And that, in a nutshell, is the essense of a neural network (without touching on backpropogation at all)!\n",
    "\n",
    "## Play\n",
    "\n",
    "The initial exploration will be based on Carlos Gershenson's pdf on the topic of artificial neural networks. It's an ab initio introduction, and will introduce ANNs in simple terms that I can then emulate in code.\n",
    "\n",
    "### Perceptrons\n",
    "\n",
    "Perceptrons were the first form of artificial neural network to be considered. They consist of a single layer, with inputs and a single output. They can be used as a binary classifier, for instance. Let's see if I can build one:"
   ]
  },
  {
   "cell_type": "code",
   "execution_count": 1,
   "metadata": {
    "collapsed": true
   },
   "outputs": [],
   "source": [
    "import numpy as np\n",
    "%matplotlib inline\n",
    "import matplotlib.pyplot as plt"
   ]
  },
  {
   "cell_type": "code",
   "execution_count": 2,
   "metadata": {
    "collapsed": true
   },
   "outputs": [],
   "source": [
    "# Data\n",
    "Dand = np.array([[1,1,1],[1,0,0],[0,1,0],[0,0,0]])\n",
    "Dor =  np.array([[1,1,1],[1,0,1],[0,1,1],[0,0,0]])\n",
    "# Dnand, Dnor, Dxor, Dxand, etc...\n",
    "\n",
    "# Activation function\n",
    "def heaviside(i):\n",
    "    return 1 if i > 0 else 0"
   ]
  },
  {
   "cell_type": "code",
   "execution_count": 39,
   "metadata": {
    "collapsed": false
   },
   "outputs": [
    {
     "data": {
      "text/plain": [
       "<matplotlib.text.Text at 0x7fc7af573390>"
      ]
     },
     "execution_count": 39,
     "metadata": {},
     "output_type": "execute_result"
    },
    {
     "data": {
      "image/png": "[encoded data removed]",
      "text/plain": [
       "<matplotlib.figure.Figure at 0x7fc7af4027f0>"
      ]
     },
     "metadata": {},
     "output_type": "display_data"
    }
   ],
   "source": [
    "# Let's look at our data\n",
    "I = Dand[:,-1] == 1\n",
    "plt.figure(figsize=(8,8))\n",
    "plt.plot(Dand[I][:,0], Dand[I][:,1], 'ro', label = \"t = 1\")\n",
    "plt.plot(Dand[I==False][:,0], Dand[I==False][:,1], 'bo', label = \"t = 0\")\n",
    "ax = plt.axis([-0.2, 1.2, -0.1, 1.2])\n",
    "plt.legend()\n",
    "plt.title(\"AND\")"
   ]
  },
  {
   "cell_type": "code",
   "execution_count": 44,
   "metadata": {
    "collapsed": false
   },
   "outputs": [
    {
     "name": "stdout",
     "output_type": "stream",
     "text": [
      "[ 0.5488135   0.71518937  0.60276338]\n",
      "[ 1.  1.  1.] 1\n",
      "[ 1.  1.  0.] 0\n",
      "[ 1.  0.  1.] 0\n",
      "[ 1.  0.  0.] 0\n"
     ]
    }
   ],
   "source": [
    "# Logical perceptron.\n",
    "# Three inputs, one out.\n",
    "\n",
    "np.random.seed(0)\n",
    "\n",
    "# Generate our weights\n",
    "w = np.random.rand(3)\n",
    "print(w)\n",
    "\n",
    "# Look at ins and outs\n",
    "x = np.ones(3)\n",
    "for i in range(Dand.shape[0]):\n",
    "    x[1:] = Dand[i,:2]\n",
    "    print(x, Dand[i,-1])"
   ]
  },
  {
   "cell_type": "code",
   "execution_count": 49,
   "metadata": {
    "collapsed": false
   },
   "outputs": [
    {
     "name": "stdout",
     "output_type": "stream",
     "text": [
      "Out is 1 target is 1\n",
      "Out is 1 target is 0\n",
      "Out is 1 target is 0\n",
      "Out is 1 target is 0\n"
     ]
    }
   ],
   "source": [
    "# Activate the neural network!\n",
    "for i in range(Dand.shape[0]):\n",
    "    x[1:] = Dand[i,:2]\n",
    "    out = heaviside(np.sum(np.dot(w, x)))\n",
    "    print(\"Out is \" + str(out) + \" target is \" + str (Dand[i, -1]))"
   ]
  },
  {
   "cell_type": "markdown",
   "metadata": {},
   "source": [
    "Obviously, this isn't great, but we have out perceptron firing! At this stage, this could be cleaned up and then used in training to change the weights."
   ]
  },
  {
   "cell_type": "code",
   "execution_count": 53,
   "metadata": {
    "collapsed": false
   },
   "outputs": [],
   "source": [
    "# Training the weights / implementing the algorithm found on wikipedia here:\n",
    "# https://en.wikipedia.org/wiki/Perceptron\n",
    "\n",
    "# Definitions:\n",
    "# ouput of the perceptron\n",
    "def f(z):\n",
    "    return heaviside(np.sum(z))\n",
    "\n",
    "\n",
    "\n",
    "# Data\n",
    "D = np.ones((4,4))\n",
    "D[:,1:] = Dand\n",
    "\n",
    "# Vector of weights, zero or small random number.\n",
    "w = np.zeros(3)\n",
    "\n",
    "# Learning rate 0 < alpha < 1. Can't be too high to will oscillate around solution.\n",
    "alpha = 0.1"
   ]
  },
  {
   "cell_type": "code",
   "execution_count": 55,
   "metadata": {
    "collapsed": false
   },
   "outputs": [
    {
     "name": "stdout",
     "output_type": "stream",
     "text": [
      "[[ 1.  1.  1.  1.]\n",
      " [ 1.  1.  0.  0.]\n",
      " [ 1.  0.  1.  0.]\n",
      " [ 1.  0.  0.  0.]]\n"
     ]
    }
   ],
   "source": [
    "print(D)"
   ]
  },
  {
   "cell_type": "code",
   "execution_count": 62,
   "metadata": {
    "collapsed": false
   },
   "outputs": [],
   "source": [
    "# Algorithm\n",
    "\n",
    "threshold = 0\n",
    "while threshold < 100:\n",
    "    for j, row in enumerate(D):\n",
    "        # calculate out\n",
    "        out = f(np.dot(row[:3], w))\n",
    "        # update weights\n",
    "        for i, wi in enumerate(w):\n",
    "            w[i] = wi + alpha*(row[-1]- out)*row[i]\n",
    "    threshold += 1"
   ]
  },
  {
   "cell_type": "code",
   "execution_count": 63,
   "metadata": {
    "collapsed": false
   },
   "outputs": [
    {
     "name": "stdout",
     "output_type": "stream",
     "text": [
      "Trained weights: [-0.2  0.1  0.2]\n"
     ]
    }
   ],
   "source": [
    "print(\"Trained weights:\", w)\n",
    "\n",
    "# Does it work?\n",
    "\n",
    "for i, row in enumerate(D):\n",
    "    assert(f(np.dot(row[:3], w)) == row[-1])"
   ]
  },
  {
   "cell_type": "markdown",
   "metadata": {},
   "source": [
    "Wow, I don't quite believe it, but I think it works! I managed to train a perceptron to identify the logical AND relation. Can I generalise and tackle the other logical relations?"
   ]
  },
  {
   "cell_type": "code",
   "execution_count": null,
   "metadata": {
    "collapsed": true
   },
   "outputs": [],
   "source": [
    "class Perceptron:\n",
    "    def __init__(self, D, iterations = 100):\n",
    "        \"\"\"\n",
    "        Initialise a perceptron with data matrix D = [x, t] where x is the matrix of features and t is the\n",
    "        vector of targets.\n",
    "        \"\"\"\n",
    "        self.D, self.iterations = D, iterations\n",
    "        self.weights = "
   ]
  }
 ],
 "metadata": {
  "kernelspec": {
   "display_name": "Python 3",
   "language": "python",
   "name": "python3"
  },
  "language_info": {
   "codemirror_mode": {
    "name": "ipython",
    "version": 3
   },
   "file_extension": ".py",
   "mimetype": "text/x-python",
   "name": "python",
   "nbconvert_exporter": "python",
   "pygments_lexer": "ipython3",
   "version": "3.4.3"
  }
 },
 "nbformat": 4,
 "nbformat_minor": 0
}
