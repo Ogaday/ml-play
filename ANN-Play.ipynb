{
 "cells": [
  {
   "cell_type": "markdown",
   "metadata": {},
   "source": [
    "# Artificial Neural Network Play\n",
    "\n",
    "An exploration of artificial neural networks. I already have an understanding on artificial neural networks from my final year at university, but I think that understanding is quite theoretical and shallow. I would like to play with neural networks so that I become familiar with their intricacies and gotchas. The purpose then of this document is to start from the very bottom and work my way up, developing the components of and then a whole artificial neural network from scratch before moving onto using established libraries (PyBrain, scikit-learn, etc.) and employing optimisations, such as using Theano.\n",
    "\n",
    "There are a couple of tutorials, articles and such which I might be following closely, along with other more rigorous sources. They are:\n",
    " - https://datajobs.com/data-science-repo/Neural-Net-%5BCarlos-Gershenson%5D.pdf\n",
    " - http://www.wildml.com/2015/09/implementing-a-neural-network-from-scratch/\n",
    " - http://andrew.gibiansky.com/blog/machine-learning/coding-intro-to-nns/\n",
    " - http://iamtrask.github.io/2015/07/12/basic-python-network/\n",
    " \n",
    "I will endeavour to cite other sources I use as I go."
   ]
  },
  {
   "cell_type": "code",
   "execution_count": null,
   "metadata": {
    "collapsed": true
   },
   "outputs": [],
   "source": []
  }
 ],
 "metadata": {
  "kernelspec": {
   "display_name": "Python 3",
   "language": "python",
   "name": "python3"
  },
  "language_info": {
   "codemirror_mode": {
    "name": "ipython",
    "version": 3
   },
   "file_extension": ".py",
   "mimetype": "text/x-python",
   "name": "python",
   "nbconvert_exporter": "python",
   "pygments_lexer": "ipython3",
   "version": "3.4.3"
  }
 },
 "nbformat": 4,
 "nbformat_minor": 0
}
